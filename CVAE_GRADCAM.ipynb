{
  "nbformat": 4,
  "nbformat_minor": 0,
  "metadata": {
    "kernelspec": {
      "display_name": "Python 3",
      "language": "python",
      "name": "python3"
    },
    "language_info": {
      "codemirror_mode": {
        "name": "ipython",
        "version": 3
      },
      "file_extension": ".py",
      "mimetype": "text/x-python",
      "name": "python",
      "nbconvert_exporter": "python",
      "pygments_lexer": "ipython3",
      "version": "3.6.5"
    },
    "colab": {
      "name": "CVAE_GRADCAM.ipynb",
      "provenance": [],
      "include_colab_link": true
    },
    "accelerator": "GPU"
  },
  "cells": [
    {
      "cell_type": "markdown",
      "metadata": {
        "id": "view-in-github",
        "colab_type": "text"
      },
      "source": [
        "<a href=\"https://colab.research.google.com/github/srijayjk/Computer-Vision/blob/main/CVAE_GRADCAM.ipynb\" target=\"_parent\"><img src=\"https://colab.research.google.com/assets/colab-badge.svg\" alt=\"Open In Colab\"/></a>"
      ]
    },
    {
      "cell_type": "markdown",
      "metadata": {
        "id": "xmiVfWUfI8Cy"
      },
      "source": [
        "This code is refered from "
      ]
    },
    {
      "cell_type": "markdown",
      "metadata": {
        "id": "b1_EsW8XC6Lj"
      },
      "source": [
        "## 0. Download required code and data"
      ]
    },
    {
      "cell_type": "code",
      "metadata": {
        "collapsed": true,
        "colab": {
          "base_uri": "https://localhost:8080/"
        },
        "id": "eCKIGY6iC6Lk",
        "outputId": "8f989513-3680-4cad-ed6e-82810c63001a"
      },
      "source": [
        "!git clone https://github.com/Harvard-IACS/2019-computefest.git"
      ],
      "execution_count": null,
      "outputs": [
        {
          "output_type": "stream",
          "text": [
            "Cloning into '2019-computefest'...\n",
            "remote: Enumerating objects: 344, done.\u001b[K\n",
            "remote: Total 344 (delta 0), reused 0 (delta 0), pack-reused 344\u001b[K\n",
            "Receiving objects: 100% (344/344), 188.37 MiB | 25.66 MiB/s, done.\n",
            "Resolving deltas: 100% (128/128), done.\n",
            "Checking out files: 100% (42/42), done.\n"
          ],
          "name": "stdout"
        }
      ]
    },
    {
      "cell_type": "code",
      "metadata": {
        "collapsed": true,
        "id": "DfhLxOFqC6Lk"
      },
      "source": [
        "import os\n",
        "os.chdir(\"/content/2019-computefest/Wednesday/auto_encoder\")"
      ],
      "execution_count": null,
      "outputs": []
    },
    {
      "cell_type": "code",
      "metadata": {
        "colab": {
          "base_uri": "https://localhost:8080/"
        },
        "id": "bdYFUTZ8C6Ll",
        "outputId": "b5c8d1fe-cba2-4cb5-95bf-3bc2dbf50496"
      },
      "source": [
        "!ls"
      ],
      "execution_count": null,
      "outputs": [
        {
          "output_type": "stream",
          "text": [
            "celeba\tREADME.md\t  Slides.pdf  VAE_Attendee.ipynb\n",
            "models\trequirements.txt  utils.py    VAE_Solutions.ipynb\n"
          ],
          "name": "stdout"
        }
      ]
    },
    {
      "cell_type": "code",
      "metadata": {
        "collapsed": true,
        "id": "EWhRM8eEC6Ln"
      },
      "source": [
        "import keras\n",
        "from keras import Model\n",
        "from keras.layers import Input, Conv2D, MaxPooling2D, UpSampling2D, Concatenate, Reshape, Dense, Lambda, Flatten\n",
        "from keras import backend as K\n",
        "\n",
        "import warnings\n",
        "warnings.filterwarnings('ignore')\n",
        "import numpy as np\n",
        "import glob\n",
        "import skimage\n",
        "import skimage.transform\n",
        "import skimage.io\n",
        "import PIL\n",
        "import numpy as np\n",
        "import os\n",
        "from IPython.display import clear_output\n",
        "import pandas as pd\n",
        "import matplotlib.pyplot as plt\n",
        "%matplotlib inline\n",
        "from ipywidgets import interact, interactive, fixed, interact_manual\n",
        "import ipywidgets as widgets\n",
        "import imageio\n",
        "import utils"
      ],
      "execution_count": null,
      "outputs": []
    },
    {
      "cell_type": "markdown",
      "metadata": {
        "id": "tUuXZvTFC6Lo"
      },
      "source": [
        "The major definition here will be our network architecture for the VAE. It follows an encoder-decoder architecture."
      ]
    },
    {
      "cell_type": "code",
      "metadata": {
        "collapsed": true,
        "id": "rVG2v1p2C6Lo"
      },
      "source": [
        "def define_encoder_block(x, num_filters):  \n",
        "    \"\"\"\n",
        "    Todo: Define two sequential 2D convolutional layers (Conv2D) with the following properties:\n",
        "          - num_filters many filters\n",
        "          - kernel_size 3\n",
        "          - activation \"relu\"\n",
        "          - padding \"same\"\n",
        "          - kernel_initializer \"he_normal\"\n",
        "          Also define a 2D max pooling layer (MaxPooling2D) (you can keep default arguments).\n",
        "    \"\"\"\n",
        "    x = Conv2D(num_filters, 3, activation='relu', padding='same', kernel_initializer='he_normal')(x)\n",
        "    x = Conv2D(num_filters, 3, activation='relu', padding='same', kernel_initializer='he_normal')(x)\n",
        "    x = MaxPooling2D()(x)\n",
        "    return x"
      ],
      "execution_count": null,
      "outputs": []
    },
    {
      "cell_type": "code",
      "metadata": {
        "collapsed": true,
        "id": "Vr_8EkfAC6Lp"
      },
      "source": [
        "def define_decoder_block(x, num_filters):\n",
        "    \"\"\"\n",
        "    Todo: Define one 2D upsampling layer (UpSampling2D) (you can keep default arguments).\n",
        "          Also, define two sequential 2D convolutional layers (Conv2D) with the following properties:\n",
        "          - num_filters many filters\n",
        "          - kernel_size 3\n",
        "          - activation \"relu\"\n",
        "          - padding \"same\"\n",
        "          - kernel_initializer \"he_normal\"\n",
        "    \"\"\"\n",
        "    x = UpSampling2D()(x)\n",
        "    x = Conv2D(num_filters, 3, activation='relu', padding = 'same', kernel_initializer = 'he_normal')(x)\n",
        "    x = Conv2D(num_filters, 3, activation='relu', padding = 'same', kernel_initializer = 'he_normal')(x)\n",
        "    return x"
      ],
      "execution_count": null,
      "outputs": []
    },
    {
      "cell_type": "code",
      "metadata": {
        "collapsed": true,
        "id": "yl4-uj4TC6Lp"
      },
      "source": [
        "def define_net(variational, height, width, batch_size, latent_dim, conditioning_dim=0,\n",
        "               start_filters=8):\n",
        "    \"\"\"Defines a (variational) encoder-decoder architecture.\n",
        "    \n",
        "    Args:\n",
        "        variational: Whether a variational autoencoder should be defined.\n",
        "        height: The height of the image input and output.\n",
        "        width: The width of the image input and output.\n",
        "        batch_size: The batchsize that is used during training. Must also be used for inference on the encoder side.\n",
        "        latent_dim: The dimension of the latent space.\n",
        "        conditioning_dim: The dimension of the space of variables to condition on. Can be zero for an unconditional VAE.\n",
        "        start_filters: The number of filters to start from. Multiples of this value are used across the network. Can be used\n",
        "            to change model capacity.\n",
        "        \n",
        "    Returns:\n",
        "        Tuple of keras models for full VAE, encoder part and decoder part only.\n",
        "    \"\"\"\n",
        "    \n",
        "    # Prepare the inputs.\n",
        "    inputs = Input((height, width, 3))\n",
        "    if conditioning_dim > 0:\n",
        "        # Define conditional VAE. Note that this is usually not the preferred way\n",
        "        # of incorporating the conditioning information in the encoder.\n",
        "        condition = Input([conditioning_dim])\n",
        "        condition_up = Dense(height * width)(condition)\n",
        "        condition_up = Reshape([height, width, 1])(condition_up)\n",
        "        inputs_new = Concatenate(axis=3)([inputs, condition_up])\n",
        "    else:\n",
        "        inputs_new = inputs\n",
        "    \n",
        "    # Define the encoder.\n",
        "    eblock1 = define_encoder_block(inputs_new, start_filters)\n",
        "    eblock2 = define_encoder_block(eblock1, start_filters*2)\n",
        "    eblock3 = define_encoder_block(eblock2, start_filters*4)\n",
        "    eblock4 = define_encoder_block(eblock3, start_filters*8)\n",
        "    _, *shape_spatial = eblock4.get_shape().as_list()\n",
        "    eblock4_flat = Flatten()(eblock4)\n",
        "    \n",
        "    if not variational:\n",
        "        z = Dense(latent_dim)(eblock4_flat)\n",
        "    else:\n",
        "        # Perform the sampling.\n",
        "        def sampling(args):\n",
        "            \"\"\"Samples latent variable from a normal distribution using the given parameters.\"\"\"\n",
        "            z_mean, z_log_sigma = args\n",
        "            epsilon = K.random_normal(shape=(batch_size, latent_dim), mean=0., stddev=1.)\n",
        "            return z_mean + K.exp(z_log_sigma) * epsilon\n",
        "        \n",
        "        z_mean = Dense(latent_dim)(eblock4_flat)\n",
        "        z_log_sigma = Dense(latent_dim)(eblock4_flat)\n",
        "        z = Lambda(sampling, output_shape=(latent_dim,))([z_mean, z_log_sigma])\n",
        "    \n",
        "    if conditioning_dim > 0:\n",
        "        z_ext = Concatenate()([z, condition])\n",
        "\n",
        "    # Define the decoder.\n",
        "    inputs_embedding = Input([latent_dim + conditioning_dim])\n",
        "    embedding = Dense(np.prod(shape_spatial), activation='relu')(inputs_embedding)\n",
        "    embedding = Reshape(eblock4.shape.as_list()[1:])(embedding)\n",
        "    \n",
        "    dblock1 = define_decoder_block(embedding, start_filters*8)\n",
        "    dblock2 = define_decoder_block(dblock1, start_filters*4)\n",
        "    dblock3 = define_decoder_block(dblock2, start_filters*2)\n",
        "    dblock4 = define_decoder_block(dblock3, start_filters)\n",
        "    output = Conv2D(3, 1, activation = 'tanh')(dblock4)\n",
        "    \n",
        "    # Define the models.\n",
        "    decoder = Model(inputs = inputs_embedding, outputs = output)\n",
        "    if conditioning_dim > 0:\n",
        "        encoder_with_sampling = Model(inputs = [inputs, condition], outputs = z)\n",
        "        encoder_with_sampling_ext = Model(inputs = [inputs, condition], outputs = z_ext)\n",
        "        vae_out = decoder(encoder_with_sampling_ext([inputs, condition]))\n",
        "        vae = Model(inputs = [inputs, condition], outputs = vae_out)\n",
        "    else:\n",
        "        encoder_with_sampling = Model(inputs = inputs, outputs = z)\n",
        "        vae_out = decoder(encoder_with_sampling(inputs))\n",
        "        vae = Model(inputs = inputs, outputs = vae_out)\n",
        "    \n",
        "    # Define the VAE loss.\n",
        "    def vae_loss(x, x_decoded_mean):\n",
        "        \"\"\"Defines the VAE loss functions as a combination of MSE and KL-divergence loss.\"\"\"\n",
        "        mse_loss = K.mean(keras.losses.mse(x, x_decoded_mean), axis=(1,2)) * height * width\n",
        "        kl_loss = - 0.5 * K.mean(1 + z_log_sigma - K.square(z_mean) - K.exp(z_log_sigma), axis=-1)\n",
        "        return mse_loss + kl_loss\n",
        "    \n",
        "    if variational:\n",
        "        vae.compile(loss=vae_loss, optimizer='adam')\n",
        "    else:\n",
        "        vae.compile(loss='mse', optimizer='adam')    \n",
        "        \n",
        "    print('done,', vae.count_params(), 'parameters.')\n",
        "    return vae, encoder_with_sampling, decoder"
      ],
      "execution_count": null,
      "outputs": []
    },
    {
      "cell_type": "markdown",
      "metadata": {
        "id": "F4O28ZjqC6Ls"
      },
      "source": [
        "Next, we define some functions to make encoding and decoding easier."
      ]
    },
    {
      "cell_type": "code",
      "metadata": {
        "collapsed": true,
        "id": "49DpkNysC6Ls"
      },
      "source": [
        "def encode_image(img, conditioning, encoder, height, width, batch_size):\n",
        "    '''Encodes an image that is given in RGB-channel order with value range of [0, 255].\n",
        "    \n",
        "    Args:\n",
        "        img: The image input. If shapes differ from (height, width), it will be resized.\n",
        "        conditoning: The set of values to condition on, if any. Can be None.\n",
        "        encoder: The keras encoder model to use.\n",
        "        height: The target image height.\n",
        "        width: The target image width.\n",
        "        batch_size: The batchsize that the encoder expects.\n",
        "        \n",
        "    Returns:\n",
        "        The latent representation of the input image.\n",
        "    '''\n",
        "    if img.shape[0] != height or img.shape[1] != width:\n",
        "        img = skimage.transform.resize(img, (height, width))\n",
        "    img_single = np.expand_dims(img, axis=0)\n",
        "    img_single = img_single.astype(np.float32)\n",
        "    img_single = np.repeat(img_single, batch_size, axis=0)\n",
        "    if conditioning is None:\n",
        "        z = encoder.predict(img_single)\n",
        "    else:\n",
        "        z = encoder.predict([img_single, np.repeat(np.expand_dims(conditioning, axis=0), batch_size, axis=0)])\n",
        "    return z"
      ],
      "execution_count": null,
      "outputs": []
    },
    {
      "cell_type": "code",
      "metadata": {
        "collapsed": true,
        "id": "NtKP-kawC6Lt"
      },
      "source": [
        "def decode_embedding(z, conditioning, decoder):\n",
        "    '''Decodes the given representation into an image.\n",
        "    \n",
        "    Args:\n",
        "        z: The latent representation.\n",
        "        conditioning: The set of values to condition on, if any. Can be None.\n",
        "        decoder: The keras decoder model to use.\n",
        "    '''\n",
        "    if z.ndim < 2:\n",
        "        z = np.expand_dims(z, axis=0) # Single-batch\n",
        "    if conditioning is not None:\n",
        "        z = np.concatenate((z, np.repeat(np.expand_dims(conditioning, axis=0), z.shape[0], axis=0)), axis=1)\n",
        "    return decoder.predict(z)"
      ],
      "execution_count": null,
      "outputs": []
    },
    {
      "cell_type": "code",
      "metadata": {
        "collapsed": true,
        "id": "ciylifbqC6Lu"
      },
      "source": [
        "def load_weights(folder):\n",
        "    vae.load_weights(folder + '/vae.w')\n",
        "    encoder.load_weights(folder + '/encoder.w')\n",
        "    decoder.load_weights(folder + '/decoder.w')\n",
        "    \n",
        "def save_weights(folder):\n",
        "    if not os.path.isdir(folder):\n",
        "        os.mkdir(folder)\n",
        "    vae.save_weights(folder + '/vae.w')\n",
        "    encoder.save_weights(folder + '/encoder.w')\n",
        "    decoder.save_weights(folder + '/decoder.w')"
      ],
      "execution_count": null,
      "outputs": []
    },
    {
      "cell_type": "markdown",
      "metadata": {
        "id": "ewDpqPsTC6L9"
      },
      "source": [
        "For the face dataset CelebA, we will use a conditional VAE. We first define the hyperparameters to use for this experiment."
      ]
    },
    {
      "cell_type": "code",
      "metadata": {
        "collapsed": true,
        "id": "oADqf8ytC6L-"
      },
      "source": [
        "VARIATIONAL = True\n",
        "HEIGHT = 128\n",
        "WIDTH = 128\n",
        "BATCH_SIZE = 16\n",
        "LATENT_DIM = 100\n",
        "START_FILTERS = 32\n",
        "CONDITIONING = True"
      ],
      "execution_count": null,
      "outputs": []
    },
    {
      "cell_type": "markdown",
      "metadata": {
        "id": "AyND8ntDC6L-"
      },
      "source": [
        "Since this is a large dataset, we also define a custom data generator to avoid caching the whole set in memory."
      ]
    },
    {
      "cell_type": "code",
      "metadata": {
        "collapsed": true,
        "id": "e4BnelQ-C6L-"
      },
      "source": [
        "import tensorflow\n",
        "class CustomDataGenerator(tensorflow.keras.utils.Sequence):\n",
        "    def __init__(self, files, batch_size, target_height, target_width, conditioning_dim=0, conditioning_data=None):\n",
        "        '''\n",
        "        Intializes the custom generator.\n",
        "        \n",
        "        Args:\n",
        "            files: The list of paths to images that should be fed to the network.\n",
        "            batch_size: The batchsize to use.\n",
        "            target_height: The target image height. If different, the images will be resized.\n",
        "            target_width: The target image width. If different, the images will be resized.\n",
        "            conditioning_dim: The dimension of the conditional variable space. Can be 0.\n",
        "            conditioning_data: Optional dictionary that maps from the filename to the data to be\n",
        "                conditioned on. Data must be numeric. Can be None. Otherwise, len must be equal to\n",
        "                conditioning_dim.\n",
        "        '''\n",
        "        self.files = files\n",
        "        self.batch_size = batch_size\n",
        "        self.target_height = target_height\n",
        "        self.target_width = target_width\n",
        "        self.conditioning_dim = conditioning_dim\n",
        "        self.conditioning_data = conditioning_data\n",
        "\n",
        "    def on_epoch_end(self):\n",
        "        '''Shuffle list of files after each epoch.'''\n",
        "        np.random.shuffle(self.files)\n",
        "        \n",
        "    def __getitem__(self, index):\n",
        "        cur_files = self.files[index*self.batch_size:(index+1)*self.batch_size]\n",
        "        # Generate data\n",
        "        X, y = self.__data_generation(cur_files)\n",
        "        return X, y\n",
        "    \n",
        "    def __data_generation(self, cur_files):\n",
        "        X = np.empty(shape=(self.batch_size, self.target_height, self.target_width, 3))\n",
        "        Y = np.empty(shape=(self.batch_size, self.target_height, self.target_width, 3))\n",
        "        if self.conditioning_data != None:\n",
        "            C = np.empty(shape=(self.batch_size, self.conditioning_dim))\n",
        "        \n",
        "        for i, file in enumerate(cur_files):\n",
        "            img = skimage.io.imread(file)\n",
        "            if img.shape[0] != self.target_height or img.shape[1] != self.target_width:\n",
        "                img = skimage.transform.resize(img, (self.target_height, self.target_width)) # Resize.\n",
        "            img = img.astype(np.float32) / 255.\n",
        "            X[i] = img\n",
        "            Y[i] = img\n",
        "            if self.conditioning_data != None:\n",
        "                C[i] = self.conditioning_data[os.path.basename(file)]\n",
        "                \n",
        "        if self.conditioning_data != None:\n",
        "            return [X, C], Y\n",
        "        else:\n",
        "            return X, Y\n",
        "    \n",
        "    def __len__(self):\n",
        "        return int(np.floor(len(self.files) / self.batch_size))"
      ],
      "execution_count": null,
      "outputs": []
    },
    {
      "cell_type": "markdown",
      "metadata": {
        "id": "plKyL9t0C6L_"
      },
      "source": [
        "We will read the annotation data now."
      ]
    },
    {
      "cell_type": "code",
      "metadata": {
        "colab": {
          "base_uri": "https://localhost:8080/",
          "height": 181
        },
        "id": "oeBiKc_1C6MA",
        "outputId": "50be2bbe-16bf-44dc-d7cd-88d535d9ec96"
      },
      "source": [
        "# Find image files.\n",
        "files = glob.glob('celeba/img_align_celeba/*.jpg')\n",
        "print(len(files), 'images found.')\n",
        "\n",
        "df = utils.load_celeba('celeba/list_attr_celeba.txt')\n",
        "columns = df.columns\n",
        "df.head(3)"
      ],
      "execution_count": null,
      "outputs": [
        {
          "output_type": "stream",
          "text": [
            "10 images found.\n"
          ],
          "name": "stdout"
        },
        {
          "output_type": "execute_result",
          "data": {
            "text/html": [
              "<div>\n",
              "<style scoped>\n",
              "    .dataframe tbody tr th:only-of-type {\n",
              "        vertical-align: middle;\n",
              "    }\n",
              "\n",
              "    .dataframe tbody tr th {\n",
              "        vertical-align: top;\n",
              "    }\n",
              "\n",
              "    .dataframe thead th {\n",
              "        text-align: right;\n",
              "    }\n",
              "</style>\n",
              "<table border=\"1\" class=\"dataframe\">\n",
              "  <thead>\n",
              "    <tr style=\"text-align: right;\">\n",
              "      <th></th>\n",
              "      <th>Filename</th>\n",
              "      <th>5_o_Clock_Shadow</th>\n",
              "      <th>Arched_Eyebrows</th>\n",
              "      <th>Attractive</th>\n",
              "      <th>Bags_Under_Eyes</th>\n",
              "      <th>Bald</th>\n",
              "      <th>Bangs</th>\n",
              "      <th>Big_Lips</th>\n",
              "      <th>Big_Nose</th>\n",
              "      <th>Black_Hair</th>\n",
              "      <th>Blond_Hair</th>\n",
              "      <th>Blurry</th>\n",
              "      <th>Brown_Hair</th>\n",
              "      <th>Bushy_Eyebrows</th>\n",
              "      <th>Chubby</th>\n",
              "      <th>Double_Chin</th>\n",
              "      <th>Eyeglasses</th>\n",
              "      <th>Goatee</th>\n",
              "      <th>Gray_Hair</th>\n",
              "      <th>Heavy_Makeup</th>\n",
              "      <th>High_Cheekbones</th>\n",
              "      <th>Male</th>\n",
              "      <th>Mouth_Slightly_Open</th>\n",
              "      <th>Mustache</th>\n",
              "      <th>Narrow_Eyes</th>\n",
              "      <th>No_Beard</th>\n",
              "      <th>Oval_Face</th>\n",
              "      <th>Pale_Skin</th>\n",
              "      <th>Pointy_Nose</th>\n",
              "      <th>Receding_Hairline</th>\n",
              "      <th>Rosy_Cheeks</th>\n",
              "      <th>Sideburns</th>\n",
              "      <th>Smiling</th>\n",
              "      <th>Straight_Hair</th>\n",
              "      <th>Wavy_Hair</th>\n",
              "      <th>Wearing_Earrings</th>\n",
              "      <th>Wearing_Hat</th>\n",
              "      <th>Wearing_Lipstick</th>\n",
              "      <th>Wearing_Necklace</th>\n",
              "      <th>Wearing_Necktie</th>\n",
              "      <th>Young</th>\n",
              "    </tr>\n",
              "  </thead>\n",
              "  <tbody>\n",
              "    <tr>\n",
              "      <th>0</th>\n",
              "      <td>000001.jpg</td>\n",
              "      <td>-1</td>\n",
              "      <td>1</td>\n",
              "      <td>1</td>\n",
              "      <td>-1</td>\n",
              "      <td>-1</td>\n",
              "      <td>-1</td>\n",
              "      <td>-1</td>\n",
              "      <td>-1</td>\n",
              "      <td>-1</td>\n",
              "      <td>-1</td>\n",
              "      <td>-1</td>\n",
              "      <td>1</td>\n",
              "      <td>-1</td>\n",
              "      <td>-1</td>\n",
              "      <td>-1</td>\n",
              "      <td>-1</td>\n",
              "      <td>-1</td>\n",
              "      <td>-1</td>\n",
              "      <td>1</td>\n",
              "      <td>1</td>\n",
              "      <td>-1</td>\n",
              "      <td>1</td>\n",
              "      <td>-1</td>\n",
              "      <td>-1</td>\n",
              "      <td>1</td>\n",
              "      <td>-1</td>\n",
              "      <td>-1</td>\n",
              "      <td>1</td>\n",
              "      <td>-1</td>\n",
              "      <td>-1</td>\n",
              "      <td>-1</td>\n",
              "      <td>1</td>\n",
              "      <td>1</td>\n",
              "      <td>-1</td>\n",
              "      <td>1</td>\n",
              "      <td>-1</td>\n",
              "      <td>1</td>\n",
              "      <td>-1</td>\n",
              "      <td>-1</td>\n",
              "      <td>1</td>\n",
              "    </tr>\n",
              "    <tr>\n",
              "      <th>1</th>\n",
              "      <td>000002.jpg</td>\n",
              "      <td>-1</td>\n",
              "      <td>-1</td>\n",
              "      <td>-1</td>\n",
              "      <td>1</td>\n",
              "      <td>-1</td>\n",
              "      <td>-1</td>\n",
              "      <td>-1</td>\n",
              "      <td>1</td>\n",
              "      <td>-1</td>\n",
              "      <td>-1</td>\n",
              "      <td>-1</td>\n",
              "      <td>1</td>\n",
              "      <td>-1</td>\n",
              "      <td>-1</td>\n",
              "      <td>-1</td>\n",
              "      <td>-1</td>\n",
              "      <td>-1</td>\n",
              "      <td>-1</td>\n",
              "      <td>-1</td>\n",
              "      <td>1</td>\n",
              "      <td>-1</td>\n",
              "      <td>1</td>\n",
              "      <td>-1</td>\n",
              "      <td>-1</td>\n",
              "      <td>1</td>\n",
              "      <td>-1</td>\n",
              "      <td>-1</td>\n",
              "      <td>-1</td>\n",
              "      <td>-1</td>\n",
              "      <td>-1</td>\n",
              "      <td>-1</td>\n",
              "      <td>1</td>\n",
              "      <td>-1</td>\n",
              "      <td>-1</td>\n",
              "      <td>-1</td>\n",
              "      <td>-1</td>\n",
              "      <td>-1</td>\n",
              "      <td>-1</td>\n",
              "      <td>-1</td>\n",
              "      <td>1</td>\n",
              "    </tr>\n",
              "    <tr>\n",
              "      <th>2</th>\n",
              "      <td>000003.jpg</td>\n",
              "      <td>-1</td>\n",
              "      <td>-1</td>\n",
              "      <td>-1</td>\n",
              "      <td>-1</td>\n",
              "      <td>-1</td>\n",
              "      <td>-1</td>\n",
              "      <td>1</td>\n",
              "      <td>-1</td>\n",
              "      <td>-1</td>\n",
              "      <td>-1</td>\n",
              "      <td>1</td>\n",
              "      <td>-1</td>\n",
              "      <td>-1</td>\n",
              "      <td>-1</td>\n",
              "      <td>-1</td>\n",
              "      <td>-1</td>\n",
              "      <td>-1</td>\n",
              "      <td>-1</td>\n",
              "      <td>-1</td>\n",
              "      <td>-1</td>\n",
              "      <td>1</td>\n",
              "      <td>-1</td>\n",
              "      <td>-1</td>\n",
              "      <td>1</td>\n",
              "      <td>1</td>\n",
              "      <td>-1</td>\n",
              "      <td>-1</td>\n",
              "      <td>1</td>\n",
              "      <td>-1</td>\n",
              "      <td>-1</td>\n",
              "      <td>-1</td>\n",
              "      <td>-1</td>\n",
              "      <td>-1</td>\n",
              "      <td>1</td>\n",
              "      <td>-1</td>\n",
              "      <td>-1</td>\n",
              "      <td>-1</td>\n",
              "      <td>-1</td>\n",
              "      <td>-1</td>\n",
              "      <td>1</td>\n",
              "    </tr>\n",
              "  </tbody>\n",
              "</table>\n",
              "</div>"
            ],
            "text/plain": [
              "     Filename 5_o_Clock_Shadow  ... Wearing_Necktie Young\n",
              "0  000001.jpg               -1  ...              -1     1\n",
              "1  000002.jpg               -1  ...              -1     1\n",
              "2  000003.jpg               -1  ...              -1     1\n",
              "\n",
              "[3 rows x 41 columns]"
            ]
          },
          "metadata": {
            "tags": []
          },
          "execution_count": 13
        }
      ]
    },
    {
      "cell_type": "markdown",
      "metadata": {
        "id": "MdEV28tAC6MA"
      },
      "source": [
        "We convert the dataframe into a dictionary, mapping from filename to the individual image attributes. We then instantiate the generator."
      ]
    },
    {
      "cell_type": "code",
      "metadata": {
        "collapsed": true,
        "id": "-ZaSCXyUC6MB"
      },
      "source": [
        "dd = {}\n",
        "selected_conditionals = list(columns[1:])\n",
        "for i, row in df.iterrows():\n",
        "    dd[row['Filename']] = [int(row[c]) for c in selected_conditionals]\n",
        "\n",
        "gen = CustomDataGenerator(files=files, \n",
        "                          batch_size=BATCH_SIZE, \n",
        "                          target_height=HEIGHT, \n",
        "                          target_width=WIDTH, \n",
        "                          conditioning_dim=len(selected_conditionals),\n",
        "                          conditioning_data=dd if CONDITIONING else None)"
      ],
      "execution_count": null,
      "outputs": []
    },
    {
      "cell_type": "markdown",
      "metadata": {
        "id": "VweVzuMRC6MB"
      },
      "source": [
        "Finally, we define the conditional VAE and start the training."
      ]
    },
    {
      "cell_type": "code",
      "metadata": {
        "scrolled": false,
        "colab": {
          "base_uri": "https://localhost:8080/"
        },
        "id": "1HUciSx-C6MB",
        "outputId": "c5b64569-7cb5-4f11-ee14-3e0a4eb6c562"
      },
      "source": [
        "vae, encoder, decoder = define_net(variational=VARIATIONAL,\n",
        "                                   height=HEIGHT, \n",
        "                                   width=WIDTH, \n",
        "                                   batch_size=BATCH_SIZE, \n",
        "                                   latent_dim=LATENT_DIM,\n",
        "                                   conditioning_dim=len(selected_conditionals) if CONDITIONING else 0, \n",
        "                                   start_filters=START_FILTERS)"
      ],
      "execution_count": null,
      "outputs": [
        {
          "output_type": "stream",
          "text": [
            "done, 9192747 parameters.\n"
          ],
          "name": "stdout"
        }
      ]
    },
    {
      "cell_type": "code",
      "metadata": {
        "colab": {
          "base_uri": "https://localhost:8080/"
        },
        "id": "_TuFTBEjMDs2",
        "outputId": "53c04173-5491-4f01-f800-44d8d558df66"
      },
      "source": [
        "encoder.summary()\n",
        "decoder.summary()\n",
        "vae.summary()"
      ],
      "execution_count": null,
      "outputs": [
        {
          "output_type": "stream",
          "text": [
            "Model: \"model_1\"\n",
            "__________________________________________________________________________________________________\n",
            "Layer (type)                    Output Shape         Param #     Connected to                     \n",
            "==================================================================================================\n",
            "input_2 (InputLayer)            [(None, 40)]         0                                            \n",
            "__________________________________________________________________________________________________\n",
            "dense (Dense)                   (None, 16384)        671744      input_2[0][0]                    \n",
            "__________________________________________________________________________________________________\n",
            "input_1 (InputLayer)            [(None, 128, 128, 3) 0                                            \n",
            "__________________________________________________________________________________________________\n",
            "reshape (Reshape)               (None, 128, 128, 1)  0           dense[0][0]                      \n",
            "__________________________________________________________________________________________________\n",
            "concatenate (Concatenate)       (None, 128, 128, 4)  0           input_1[0][0]                    \n",
            "                                                                 reshape[0][0]                    \n",
            "__________________________________________________________________________________________________\n",
            "conv2d (Conv2D)                 (None, 128, 128, 32) 1184        concatenate[0][0]                \n",
            "__________________________________________________________________________________________________\n",
            "conv2d_1 (Conv2D)               (None, 128, 128, 32) 9248        conv2d[0][0]                     \n",
            "__________________________________________________________________________________________________\n",
            "max_pooling2d (MaxPooling2D)    (None, 64, 64, 32)   0           conv2d_1[0][0]                   \n",
            "__________________________________________________________________________________________________\n",
            "conv2d_2 (Conv2D)               (None, 64, 64, 64)   18496       max_pooling2d[0][0]              \n",
            "__________________________________________________________________________________________________\n",
            "conv2d_3 (Conv2D)               (None, 64, 64, 64)   36928       conv2d_2[0][0]                   \n",
            "__________________________________________________________________________________________________\n",
            "max_pooling2d_1 (MaxPooling2D)  (None, 32, 32, 64)   0           conv2d_3[0][0]                   \n",
            "__________________________________________________________________________________________________\n",
            "conv2d_4 (Conv2D)               (None, 32, 32, 128)  73856       max_pooling2d_1[0][0]            \n",
            "__________________________________________________________________________________________________\n",
            "conv2d_5 (Conv2D)               (None, 32, 32, 128)  147584      conv2d_4[0][0]                   \n",
            "__________________________________________________________________________________________________\n",
            "max_pooling2d_2 (MaxPooling2D)  (None, 16, 16, 128)  0           conv2d_5[0][0]                   \n",
            "__________________________________________________________________________________________________\n",
            "conv2d_6 (Conv2D)               (None, 16, 16, 256)  295168      max_pooling2d_2[0][0]            \n",
            "__________________________________________________________________________________________________\n",
            "conv2d_7 (Conv2D)               (None, 16, 16, 256)  590080      conv2d_6[0][0]                   \n",
            "__________________________________________________________________________________________________\n",
            "max_pooling2d_3 (MaxPooling2D)  (None, 8, 8, 256)    0           conv2d_7[0][0]                   \n",
            "__________________________________________________________________________________________________\n",
            "flatten (Flatten)               (None, 16384)        0           max_pooling2d_3[0][0]            \n",
            "__________________________________________________________________________________________________\n",
            "dense_1 (Dense)                 (None, 100)          1638500     flatten[0][0]                    \n",
            "__________________________________________________________________________________________________\n",
            "dense_2 (Dense)                 (None, 100)          1638500     flatten[0][0]                    \n",
            "__________________________________________________________________________________________________\n",
            "lambda (Lambda)                 (16, 100)            0           dense_1[0][0]                    \n",
            "                                                                 dense_2[0][0]                    \n",
            "==================================================================================================\n",
            "Total params: 5,121,288\n",
            "Trainable params: 5,121,288\n",
            "Non-trainable params: 0\n",
            "__________________________________________________________________________________________________\n",
            "Model: \"model\"\n",
            "_________________________________________________________________\n",
            "Layer (type)                 Output Shape              Param #   \n",
            "=================================================================\n",
            "input_3 (InputLayer)         [(None, 140)]             0         \n",
            "_________________________________________________________________\n",
            "dense_3 (Dense)              (None, 16384)             2310144   \n",
            "_________________________________________________________________\n",
            "reshape_1 (Reshape)          (None, 8, 8, 256)         0         \n",
            "_________________________________________________________________\n",
            "up_sampling2d (UpSampling2D) (None, 16, 16, 256)       0         \n",
            "_________________________________________________________________\n",
            "conv2d_8 (Conv2D)            (None, 16, 16, 256)       590080    \n",
            "_________________________________________________________________\n",
            "conv2d_9 (Conv2D)            (None, 16, 16, 256)       590080    \n",
            "_________________________________________________________________\n",
            "up_sampling2d_1 (UpSampling2 (None, 32, 32, 256)       0         \n",
            "_________________________________________________________________\n",
            "conv2d_10 (Conv2D)           (None, 32, 32, 128)       295040    \n",
            "_________________________________________________________________\n",
            "conv2d_11 (Conv2D)           (None, 32, 32, 128)       147584    \n",
            "_________________________________________________________________\n",
            "up_sampling2d_2 (UpSampling2 (None, 64, 64, 128)       0         \n",
            "_________________________________________________________________\n",
            "conv2d_12 (Conv2D)           (None, 64, 64, 64)        73792     \n",
            "_________________________________________________________________\n",
            "conv2d_13 (Conv2D)           (None, 64, 64, 64)        36928     \n",
            "_________________________________________________________________\n",
            "up_sampling2d_3 (UpSampling2 (None, 128, 128, 64)      0         \n",
            "_________________________________________________________________\n",
            "conv2d_14 (Conv2D)           (None, 128, 128, 32)      18464     \n",
            "_________________________________________________________________\n",
            "conv2d_15 (Conv2D)           (None, 128, 128, 32)      9248      \n",
            "_________________________________________________________________\n",
            "conv2d_16 (Conv2D)           (None, 128, 128, 3)       99        \n",
            "=================================================================\n",
            "Total params: 4,071,459\n",
            "Trainable params: 4,071,459\n",
            "Non-trainable params: 0\n",
            "_________________________________________________________________\n",
            "Model: \"model_3\"\n",
            "__________________________________________________________________________________________________\n",
            "Layer (type)                    Output Shape         Param #     Connected to                     \n",
            "==================================================================================================\n",
            "input_1 (InputLayer)            [(None, 128, 128, 3) 0                                            \n",
            "__________________________________________________________________________________________________\n",
            "input_2 (InputLayer)            [(None, 40)]         0                                            \n",
            "__________________________________________________________________________________________________\n",
            "model_2 (Functional)            (16, 140)            5121288     input_1[0][0]                    \n",
            "                                                                 input_2[0][0]                    \n",
            "__________________________________________________________________________________________________\n",
            "model (Functional)              (None, 128, 128, 3)  4071459     model_2[0][0]                    \n",
            "==================================================================================================\n",
            "Total params: 9,192,747\n",
            "Trainable params: 9,192,747\n",
            "Non-trainable params: 0\n",
            "__________________________________________________________________________________________________\n"
          ],
          "name": "stdout"
        }
      ]
    },
    {
      "cell_type": "code",
      "metadata": {
        "collapsed": true,
        "scrolled": false,
        "id": "WZJUcMmpC6MC"
      },
      "source": [
        "vae.fit_generator(gen, verbose=1, epochs=20)"
      ],
      "execution_count": null,
      "outputs": []
    },
    {
      "cell_type": "markdown",
      "metadata": {
        "id": "AVG9t5KqC6MC"
      },
      "source": [
        "Alternatively, we can load pre-trained weights:"
      ]
    },
    {
      "cell_type": "code",
      "metadata": {
        "collapsed": true,
        "id": "wEvQ-V4WC6MD"
      },
      "source": [
        "load_weights(folder='models/celeba_vae')"
      ],
      "execution_count": null,
      "outputs": []
    },
    {
      "cell_type": "code",
      "metadata": {
        "collapsed": true,
        "id": "7J_KlO4gC6MD"
      },
      "source": [
        "# save_weights(folder='models/celeba_vae')"
      ],
      "execution_count": null,
      "outputs": []
    },
    {
      "cell_type": "markdown",
      "metadata": {
        "id": "9h_pncktC6ME"
      },
      "source": [
        "Let's look at some examples. First, we will select a random image from the CelebA dataset, and read the related annotation data."
      ]
    },
    {
      "cell_type": "code",
      "metadata": {
        "colab": {
          "base_uri": "https://localhost:8080/",
          "height": 269
        },
        "id": "G5Qdb8pZC6ME",
        "outputId": "574ad490-9c4a-433f-da1a-8b8dca2c993b"
      },
      "source": [
        "rnd_file = np.random.choice(files)\n",
        "file_id = os.path.basename(rnd_file)\n",
        "init_meta = dd[file_id]\n",
        "img = skimage.io.imread('/content/000001.jpg')\n",
        "plt.imshow(img)\n",
        "plt.show()"
      ],
      "execution_count": null,
      "outputs": [
        {
          "output_type": "display_data",
          "data": {
            "image/png": "[encoded data removed]",
            "text/plain": [
              "<Figure size 432x288 with 1 Axes>"
            ]
          },
          "metadata": {
            "tags": [],
            "needs_background": "light"
          }
        }
      ]
    },
    {
      "cell_type": "markdown",
      "metadata": {
        "id": "WAhi8XKoC6MF"
      },
      "source": [
        "Now, we will encode the image into its latent representation."
      ]
    },
    {
      "cell_type": "code",
      "metadata": {
        "colab": {
          "base_uri": "https://localhost:8080/"
        },
        "id": "J79WpEbAC6MF",
        "outputId": "706e3790-52cf-41e2-b4b2-9e3cdfe8436b"
      },
      "source": [
        "z = encode_image(img.astype(np.float32) / 255., np.array(init_meta), encoder, HEIGHT, WIDTH, BATCH_SIZE)\n",
        "print('latent sample:\\n', z[0])"
      ],
      "execution_count": null,
      "outputs": [
        {
          "output_type": "stream",
          "text": [
            "latent sample:\n",
            " [-3.652446    1.8681396  -0.794359    2.7763822  -0.9257261   0.5987211\n",
            " -2.3982918  -3.7770188   0.15966633  0.8156403   1.8871232  -1.1033976\n",
            "  1.16401     1.1344787   2.8415453   1.2980944 ]\n"
          ],
          "name": "stdout"
        }
      ]
    },
    {
      "cell_type": "code",
      "metadata": {
        "colab": {
          "base_uri": "https://localhost:8080/",
          "height": 341
        },
        "id": "b4pEmzUygobv",
        "outputId": "bb3fd95f-ba1b-4bb9-a28a-4859a46edf0f"
      },
      "source": [
        "print('latent sample:\\n', z[0])\n",
        "ret = decode_embedding(z, init_meta, decoder)\n",
        "plt.imshow(ret[0])\n",
        "plt.show()"
      ],
      "execution_count": null,
      "outputs": [
        {
          "output_type": "stream",
          "text": [
            "latent sample:\n",
            " [-3.652446    1.8681396  -0.794359    2.7763822  -0.9257261   0.5987211\n",
            " -2.3982918  -3.7770188   0.15966633  0.8156403   1.8871232  -1.1033976\n",
            "  1.16401     1.1344787   2.8415453   1.2980944 ]\n"
          ],
          "name": "stdout"
        },
        {
          "output_type": "display_data",
          "data": {
            "image/png": "[encoded data removed]",
            "text/plain": [
              "<Figure size 432x288 with 1 Axes>"
            ]
          },
          "metadata": {
            "tags": [],
            "needs_background": "light"
          }
        }
      ]
    },
    {
      "cell_type": "markdown",
      "metadata": {
        "id": "KUNCuxjO0A5B"
      },
      "source": [
        "Latent space\n",
        "\n",
        "1) Z[0][1] = collar and Hair .... [-5, 0, 5, 10]\n",
        "2) Z[0][2] = collar and Hair .... [-5, 0, 5, 10]\n"
      ]
    },
    {
      "cell_type": "markdown",
      "metadata": {
        "id": "_-t2y6laC6MG"
      },
      "source": [
        "Decoding the latent representation should result in a face with somewhat similar characterics."
      ]
    },
    {
      "cell_type": "code",
      "metadata": {
        "id": "uNw2bSIQC6MG",
        "colab": {
          "base_uri": "https://localhost:8080/",
          "height": 268
        },
        "outputId": "b4c28840-2921-4dab-bef1-029bce2217a7"
      },
      "source": [
        "ret = decode_embedding(z, init_meta, decoder)\n",
        "plt.imshow(ret[0])\n",
        "plt.show()"
      ],
      "execution_count": null,
      "outputs": [
        {
          "output_type": "display_data",
          "data": {
            "image/png": "[encoded data removed]",
            "text/plain": [
              "<Figure size 432x288 with 1 Axes>"
            ]
          },
          "metadata": {
            "tags": [],
            "needs_background": "light"
          }
        }
      ]
    },
    {
      "cell_type": "markdown",
      "metadata": {
        "id": "-8PNSxAPC6MH"
      },
      "source": [
        "The next step is interesting: We can manipulate the embedding to change the facial structure. We can modify both our conditionals, as well as the latent variables. Here, we plot sliders to make the process interactive."
      ]
    },
    {
      "cell_type": "code",
      "metadata": {
        "id": "btky5qAyC6MI"
      },
      "source": [
        "# Note: Interactive widgets (i.e. this cell) will not work in Colab.\n",
        "\n",
        "def render(**params):\n",
        "    perturb_latent = np.zeros(shape=(LATENT_DIM))\n",
        "    for i in range(LATENT_DIM):\n",
        "        perturb_latent[i] = params['latent' + str(i)]\n",
        "\n",
        "    c = []\n",
        "    for k,v in params.items():\n",
        "        if not k.startswith('latent'):\n",
        "            c.append(v)\n",
        "    ret = decode_embedding(z[0] + perturb_latent, conditioning=np.array(c), decoder=decoder)[0]\n",
        "    ret = np.clip(ret, 0, 1)\n",
        "    plt.figure(figsize=(3,3))\n",
        "    plt.imshow(ret)\n",
        "    \n",
        "lower, upper = -10, 10\n",
        "params = {}\n",
        "for i, c in enumerate(selected_conditionals):\n",
        "    params[c] = widgets.FloatSlider(min=lower,max=upper,step=0.1,value=init_meta[i], layout=widgets.Layout(width='70%', height='20px'))\n",
        "for c in ['latent' + str(i) for i in range(LATENT_DIM)]:\n",
        "    params[c] = widgets.FloatSlider(min=lower,max=upper,step=0.1,value=0,layout=widgets.Layout(width='70%', height='20px'))\n",
        "    \n",
        "interactive_plot = interactive(render, **params)\n",
        "output = interactive_plot.children[-1]\n",
        "output.layout.height = '200px'\n",
        "interactive_plot"
      ],
      "execution_count": null,
      "outputs": []
    },
    {
      "cell_type": "code",
      "metadata": {
        "colab": {
          "base_uri": "https://localhost:8080/"
        },
        "id": "xCDjV3zQTsEF",
        "outputId": "ec457d52-6b79-4c51-b71d-8f2511caac77"
      },
      "source": [
        "vae.summary()"
      ],
      "execution_count": null,
      "outputs": [
        {
          "output_type": "stream",
          "text": [
            "Model: \"model_7\"\n",
            "__________________________________________________________________________________________________\n",
            "Layer (type)                    Output Shape         Param #     Connected to                     \n",
            "==================================================================================================\n",
            "input_4 (InputLayer)            [(None, 128, 128, 3) 0                                            \n",
            "__________________________________________________________________________________________________\n",
            "input_5 (InputLayer)            [(None, 40)]         0                                            \n",
            "__________________________________________________________________________________________________\n",
            "model_6 (Functional)            (16, 56)             2368608     input_4[0][0]                    \n",
            "                                                                 input_5[0][0]                    \n",
            "__________________________________________________________________________________________________\n",
            "model_4 (Functional)            (None, 128, 128, 3)  2695203     model_6[0][0]                    \n",
            "==================================================================================================\n",
            "Total params: 5,063,811\n",
            "Trainable params: 5,063,811\n",
            "Non-trainable params: 0\n",
            "__________________________________________________________________________________________________\n"
          ],
          "name": "stdout"
        }
      ]
    },
    {
      "cell_type": "code",
      "metadata": {
        "id": "S57LoTqUTJ7-"
      },
      "source": [
        "vae.get_layer('model_5').get_layer('conv2d_5')"
      ],
      "execution_count": null,
      "outputs": []
    },
    {
      "cell_type": "code",
      "metadata": {
        "id": "sCecOsLxRzbD"
      },
      "source": [
        "#Read Image and convert it to shape according to batch size\n",
        "import sys\n",
        "import cv2\n",
        "from skimage.io import imread, imshow, imread_collection, concatenate_images\n",
        "from skimage.transform import resize\n",
        "img_path='/content/000001.jpg'\n",
        "img = imread(img_path)\n",
        "img = resize(img, (128, 128))\n",
        "#imshow(img)\n",
        "img_single = np.expand_dims(img, axis=0)\n",
        "img_single = img_single.astype(np.float32)\n",
        "img_single = np.repeat(img_single, 16, axis=0)"
      ],
      "execution_count": null,
      "outputs": []
    },
    {
      "cell_type": "code",
      "metadata": {
        "id": "kleqoSbrRzeG"
      },
      "source": [
        "img_single.shape #Verify image shape"
      ],
      "execution_count": null,
      "outputs": []
    },
    {
      "cell_type": "code",
      "metadata": {
        "id": "4dnlYQv4XxRl"
      },
      "source": [
        "#Verify input is proper\n",
        "import matplotlib\n",
        "from google.colab.patches import cv2_imshow\n",
        "res = img_single[0].squeeze()\n",
        "from PIL import Image\n",
        "res = res*255\n",
        "res = res.astype(np.uint8)\n",
        "res = Image.fromarray(res)\n",
        "matplotlib.pyplot.imshow(res)"
      ],
      "execution_count": null,
      "outputs": []
    },
    {
      "cell_type": "code",
      "metadata": {
        "id": "30bcuZq7gU2H"
      },
      "source": [
        "#init_meta[17] = -1"
      ],
      "execution_count": null,
      "outputs": []
    },
    {
      "cell_type": "code",
      "metadata": {
        "id": "4o2SaMJQMrpt"
      },
      "source": [
        "init_meta    #List shape 1*40 \n",
        "init_meta=np.array(init_meta)   \n",
        "a =np.repeat(np.expand_dims(init_meta, axis=0), 16, axis=0)"
      ],
      "execution_count": null,
      "outputs": []
    },
    {
      "cell_type": "code",
      "metadata": {
        "id": "SI9IoQnjbfAE"
      },
      "source": [
        "a.shape"
      ],
      "execution_count": null,
      "outputs": []
    },
    {
      "cell_type": "code",
      "metadata": {
        "id": "6cVxgdZPMrsc"
      },
      "source": [
        "output = vae.predict([img_single,a])    #Getting o/p of VAE"
      ],
      "execution_count": null,
      "outputs": []
    },
    {
      "cell_type": "markdown",
      "metadata": {
        "id": "b4n3MksxYaLA"
      },
      "source": [
        "Latent Space Explore"
      ]
    },
    {
      "cell_type": "code",
      "metadata": {
        "id": "0wuCsTkoYO6T"
      },
      "source": [
        "z = encode_image(img_single[0].astype(np.float32) / 255., np.array(init_meta), encoder, HEIGHT, WIDTH, BATCH_SIZE)\n",
        "print('latent sample:\\n', z[0])"
      ],
      "execution_count": null,
      "outputs": []
    },
    {
      "cell_type": "code",
      "metadata": {
        "id": "ezARpM3Bds6i"
      },
      "source": [
        "for i in range(-10, 20, 1):\n",
        "  z[0][3] = i\n",
        "  print('latent sample:\\n', z[0])\n",
        "  ret = decode_embedding(z, init_meta, decoder)\n",
        "  plt.imshow(ret[0])\n",
        "  plt.show()\n"
      ],
      "execution_count": null,
      "outputs": []
    },
    {
      "cell_type": "code",
      "metadata": {
        "id": "2pYu9Jd3Ye1t"
      },
      "source": [
        ""
      ],
      "execution_count": null,
      "outputs": []
    },
    {
      "cell_type": "code",
      "metadata": {
        "id": "F9zYqgRCSWRM"
      },
      "source": [
        "last_conv_layer_name = \"conv2d_7\"\n",
        "encoder_out = \"lambda\""
      ],
      "execution_count": null,
      "outputs": []
    },
    {
      "cell_type": "code",
      "metadata": {
        "id": "DW05u5SPSdAZ"
      },
      "source": [
        "#Verifying the o/p\n",
        "import matplotlib\n",
        "from google.colab.patches import cv2_imshow\n",
        "res = output[1].squeeze()\n",
        "from PIL import Image\n",
        "res = res*255\n",
        "res = res.astype(np.uint8)\n",
        "res = Image.fromarray(res)\n",
        "matplotlib.pyplot.imshow(res)\n",
        "#res.save(\"VAE_generated_image.jpeg\")"
      ],
      "execution_count": null,
      "outputs": []
    },
    {
      "cell_type": "code",
      "metadata": {
        "id": "JK59L5INSsSP"
      },
      "source": [
        "def make_gradcam_heatmap(img_array, init_meta, model, last_conv_layer_name, encoder_out, pred_index=None):\n",
        "    grad_model = tf.keras.models.Model(\n",
        "        [model.inputs], [model.get_layer('model_2').get_layer(last_conv_layer_name).output, model.get_layer('model_2').get_layer(encoder_out).output]\n",
        "    )\n",
        "    with tf.GradientTape() as tape:\n",
        "        last_conv_layer_output, preds = grad_model([img_array, init_meta])   #VAE has 2 inputs\n",
        "    \n",
        "    grads = tape.gradient(preds, last_conv_layer_output)\n",
        "    pooled_grads = tf.reduce_mean(grads, axis=(0, 1, 2))\n",
        "    last_conv_layer_output = last_conv_layer_output[0]\n",
        "    heatmap = last_conv_layer_output @ pooled_grads[..., tf.newaxis]\n",
        "    heatmap = tf.squeeze(heatmap)\n",
        "    heatmap = tf.maximum(heatmap, 0) / tf.math.reduce_max(heatmap)\n",
        "    return heatmap.numpy()"
      ],
      "execution_count": null,
      "outputs": []
    },
    {
      "cell_type": "code",
      "metadata": {
        "id": "RLERBHXcbv0r"
      },
      "source": [
        "import tensorflow as tf\n",
        "heatmap = make_gradcam_heatmap(img_single, a, vae, last_conv_layer_name, encoder_out)"
      ],
      "execution_count": null,
      "outputs": []
    },
    {
      "cell_type": "code",
      "metadata": {
        "id": "0c59qK7TcEzA"
      },
      "source": [
        "hm = np.uint8(255 * heatmap)\n",
        "hm = np.expand_dims(hm, axis=2)\n",
        "hm = tensorflow.keras.preprocessing.image.array_to_img(hm)\n",
        "hm = hm.resize((img_single.shape[1], img_single.shape[2]))\n",
        "\n",
        "matplotlib.pyplot.imshow(hm)\n"
      ],
      "execution_count": null,
      "outputs": []
    },
    {
      "cell_type": "code",
      "metadata": {
        "id": "T-tz8eenbwae"
      },
      "source": [
        "def save_and_display_gradcam(img, heatmap,cam_path=\"superimposed_img.jpg\", alpha=0.4):\n",
        "    heatmap = np.uint8(255 * heatmap)\n",
        "    jet = cm.get_cmap(\"jet\")\n",
        "    jet_colors = jet(np.arange(256))[:, :3]\n",
        "    jet_heatmap = jet_colors[heatmap]\n",
        "    jet_heatmap = tensorflow.keras.preprocessing.image.array_to_img(jet_heatmap)\n",
        "    jet_heatmap = jet_heatmap.resize((img.shape[1], img.shape[0]))\n",
        "    jet_heatmap = tensorflow.keras.preprocessing.image.img_to_array(jet_heatmap)\n",
        "    print(jet_heatmap.shape)\n",
        "    print(img.shape)\n",
        "    superimposed_img = cv2.addWeighted(jet_heatmap, 0.005, img, 0.995, 0)\n",
        "    superimposed_img = tensorflow.keras.preprocessing.image.array_to_img(superimposed_img)\n",
        "    superimposed_img.save(cam_path)\n",
        "    matplotlib.pyplot.imshow(superimposed_img)"
      ],
      "execution_count": null,
      "outputs": []
    },
    {
      "cell_type": "code",
      "metadata": {
        "id": "aoz6WHFJdZbU"
      },
      "source": [
        "import matplotlib.cm as cm\n",
        "save_and_display_gradcam(img_single[0].squeeze(), heatmap)"
      ],
      "execution_count": null,
      "outputs": []
    },
    {
      "cell_type": "code",
      "metadata": {
        "id": "iuK6BkjarCIi"
      },
      "source": [
        "def save_individual_heatmaps_1(img_array, init_meta, model, last_conv_layer_name, encoder_out, pred_index=None):\n",
        "  grad_model = tf.keras.models.Model(\n",
        "        [model.inputs], [model.get_layer('model_2').get_layer(last_conv_layer_name).output, model.get_layer('model_2').get_layer(encoder_out).output]\n",
        "    )\n",
        "  no_of_channels = ( model.get_layer('model_2').get_layer(encoder_out).output.get_shape())[1]\n",
        "  for i in range(no_of_channels):\n",
        "    with tf.GradientTape(persistent=True) as tape:\n",
        "      last_conv_layer_output, preds = grad_model([img_array, init_meta])\n",
        "      y = preds[0][i]\n",
        "    grads = tape.gradient(y, last_conv_layer_output)\n",
        "    pooled_grads = tf.reduce_mean(grads, axis=(0, 1, 2))\n",
        "    last_conv_layer_output = last_conv_layer_output[0]\n",
        "    heatmap = tf.matmul(last_conv_layer_output, pooled_grads[..., tf.newaxis])\n",
        "    heatmap = tf.squeeze(heatmap)\n",
        "    heatmap = tf.maximum(heatmap, 0) / tf.math.reduce_max(heatmap)\n",
        "    save_and_display_gradcam(img_array[0].squeeze(), heatmap, cam_path=\"/content/\"+str(i)+\".jpg\")\n",
        "    \n",
        "\n",
        "save_individual_heatmaps_1(img_single, a, vae, last_conv_layer_name, encoder_out)"
      ],
      "execution_count": null,
      "outputs": []
    },
    {
      "cell_type": "code",
      "metadata": {
        "id": "vIp6QkxFC6ML"
      },
      "source": [
        "# Modify the following variables to change the face generated below.\n",
        "# Set them to numbers between roughly -10 and 10.\n",
        "# Large values might seem unrealistic, so try with small numbers first.\n",
        "# If you set them to None, they will take the default values.\n",
        "\n",
        "smiling = None # e.g. change this to -3 or 3 and see the results!\n",
        "male = None\n",
        "no_beard = None\n",
        "attractive = None\n",
        "bald = None\n",
        "chubby = None\n",
        "eyeglasses = None\n",
        "young = None\n",
        "\n",
        "\n",
        "# ------------------------------------\n",
        "# Don't change the code below.\n",
        "# It introduces the values you defined in the conditional vector\n",
        "# that is used by the VAE.\n",
        "\n",
        "meta = init_meta.copy()\n",
        "meta[2] = attractive if attractive else init_meta[2]\n",
        "meta[4] = bald if bald else init_meta[4]\n",
        "meta[13] = chubby if chubby else init_meta[13]\n",
        "meta[15] = eyeglasses if eyeglasses else init_meta[15]\n",
        "meta[20] = male if male else init_meta[20]\n",
        "meta[24] = no_beard if no_beard else init_meta[24]\n",
        "meta[31] = smiling if smiling else init_meta[31]\n",
        "meta[39] = young if young else init_meta[39]\n",
        "\n",
        "ret = decode_embedding(z, meta, decoder)\n",
        "plt.imshow(ret[0])\n",
        "plt.show()\n",
        "\n",
        "print('Attractive:', meta[2])\n",
        "print('Bald:', meta[4])\n",
        "print('Chubby:', meta[13])\n",
        "print('Eyeglasses:', meta[15])\n",
        "print('Male:', meta[20])\n",
        "print('No_Beard:', meta[24])\n",
        "print('Smiling:', meta[31])\n",
        "print('Young:', meta[39])"
      ],
      "execution_count": null,
      "outputs": []
    },
    {
      "cell_type": "markdown",
      "metadata": {
        "id": "1Ry3r-EhC6MM"
      },
      "source": [
        "Similar to our MNIST example, we can also visualize a grid of samples by just manipulating two of the dimensions."
      ]
    },
    {
      "cell_type": "code",
      "metadata": {
        "id": "pyUzn7mXC6MM"
      },
      "source": [
        "dim1 = 'Male' # you can change these to other attributes such as No_Beard or Young\n",
        "dim2 = 'Smiling'\n",
        "base_vec = np.array(list(z[0]) + meta)\n",
        "rendering, _ = utils.display_manifold(\n",
        "    decoder, \n",
        "    HEIGHT, \n",
        "    WIDTH, \n",
        "    base_vec, \n",
        "    bound_x=15, \n",
        "    bound_y=15, \n",
        "    axis_x=LATENT_DIM + selected_conditionals.index(dim1), \n",
        "    axis_y=LATENT_DIM + selected_conditionals.index(dim2), \n",
        "    n=10,\n",
        "    desc_x = dim1,\n",
        "    desc_y = dim2,\n",
        "    file_out = 'rendering_celeba_' + dim1.lower() + '_' + dim2.lower() + '.png')"
      ],
      "execution_count": null,
      "outputs": []
    },
    {
      "cell_type": "markdown",
      "metadata": {
        "id": "2WXJQ7KYC6MN"
      },
      "source": [
        "Additionally, we can create image sequences when manipulating a certain dimension. We save the result as an animated GIF."
      ]
    },
    {
      "cell_type": "code",
      "metadata": {
        "id": "582AFhH_C6MN"
      },
      "source": [
        "dim = 'Smiling' # you can change these to other attributes such as No_Beard or Young\n",
        "utils.generate_gif(decoder, \n",
        "                   height=HEIGHT, \n",
        "                   width=WIDTH,\n",
        "                   base_vec=np.array(list(base_vec)), \n",
        "                   axis=LATENT_DIM + selected_conditionals.index(dim),\n",
        "                   total_frames=30,\n",
        "                   degree=5,\n",
        "                   file_out='animation_' + dim.lower() + '.gif')"
      ],
      "execution_count": null,
      "outputs": []
    }
  ]
}